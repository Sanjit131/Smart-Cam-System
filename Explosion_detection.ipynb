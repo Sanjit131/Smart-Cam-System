{
  "cells": [
    {
      "cell_type": "code",
      "execution_count": null,
      "metadata": {
        "colab": {
          "base_uri": "https://localhost:8080/",
          "height": 1000
        },
        "id": "-d4BmpOVZHUn",
        "outputId": "c58c6ad3-8c51-445c-f308-9e6d84e2f615"
      },
      "outputs": [],
      "source": [
        "!pip install opencv-python ultralytics\n",
        "\n",
        "import cv2\n",
        "import torch\n",
        "from ultralytics import YOLO\n",
        "from google.colab.patches import cv2_imshow\n",
        "\n",
        "model = YOLO('yolov8n.pt')\n",
        "\n",
        "\n",
        "class ExplosionDetector:\n",
        "    def __init__(self, model_path, confidence_threshold=0.5):\n",
        "        self.model = YOLO(model_path)\n",
        "        self.confidence_threshold = confidence_threshold\n",
        "        self.warning_ranges = {\n",
        "            'small': 50,\n",
        "            'medium': 100,\n",
        "            'large': 200\n",
        "        }\n",
        "\n",
        "    def detect_explosion(self, frame):\n",
        "        results = self.model(frame)\n",
        "        explosions = []\n",
        "        for result in results:\n",
        "            boxes = result.boxes\n",
        "            for box in boxes:\n",
        "                class_id = box.cls.item()\n",
        "                confidence = box.conf.item()\n",
        "                if confidence >= self.confidence_threshold:\n",
        "                  if class_id == 0:\n",
        "                    x1, y1, x2, y2 = map(int, box.xyxy[0])\n",
        "                    explosion_size = (x2 - x1) * (y2 - y1)\n",
        "                    explosions.append({'bbox': [x1, y1, x2, y2], 'size': explosion_size})\n",
        "\n",
        "        return explosions\n",
        "\n",
        "    def get_warning_level(self, explosion_size):\n",
        "        if explosion_size < self.warning_ranges['small']:\n",
        "            return 'small'\n",
        "        elif explosion_size < self.warning_ranges['medium']:\n",
        "            return 'medium'\n",
        "        else:\n",
        "            return 'large'\n",
        "detector = ExplosionDetector('yolov8n.pt')\n",
        "\n",
        "video_path = '/content/drive/MyDrive/Source/Explosion 2.mp4'\n",
        "cap = cv2.VideoCapture(video_path)\n",
        "\n",
        "while True:\n",
        "    ret, frame = cap.read()\n",
        "    if not ret:\n",
        "        break\n",
        "\n",
        "    explosions = detector.detect_explosion(frame)\n",
        "    for explosion in explosions:\n",
        "        x1, y1, x2, y2 = explosion['bbox']\n",
        "        cv2.rectangle(frame, (x1, y1), (x2, y2), (0, 0, 255), 2)\n",
        "        warning_level = detector.get_warning_level(explosion['size'])\n",
        "        warning_range = detector.warning_ranges[warning_level]\n",
        "        cv2.putText(frame, f\"Explosion Detected! Warning Level: {warning_level}, Range:{warning_range} px\", (x1, y1 - 10), cv2.FONT_HERSHEY_SIMPLEX, 0.5, (0, 0, 255), 2)\n",
        "\n",
        "    cv2_imshow(frame)\n",
        "    if cv2.waitKey(1) & 0xFF == ord('q'):\n",
        "        break\n",
        "\n",
        "cap.release()\n",
        "cv2.destroyAllWindows()"
      ]
    },
    {
      "cell_type": "code",
      "execution_count": null,
      "metadata": {
        "id": "mg8GVaIFi_uI",
        "colab": {
          "base_uri": "https://localhost:8080/"
        },
        "outputId": "60348ca5-380b-4c2f-89d4-5e1e8408d79d"
      },
      "outputs": [
        {
          "output_type": "stream",
          "name": "stdout",
          "text": [
            "Mounted at /content/drive\n"
          ]
        }
      ],
      "source": [
        "# prompt: mounting google drive\n",
        "\n",
        "from google.colab import drive\n",
        "drive.mount('/content/drive')"
      ]
    }
  ],
  "metadata": {
    "colab": {
      "provenance": [],
      "gpuType": "T4"
    },
    "kernelspec": {
      "display_name": "Python 3",
      "name": "python3"
    },
    "language_info": {
      "name": "python"
    },
    "accelerator": "GPU"
  },
  "nbformat": 4,
  "nbformat_minor": 0
}